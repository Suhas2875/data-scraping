{
 "cells": [
  {
   "cell_type": "code",
   "execution_count": 1,
   "id": "429743ec-7faf-468e-8c83-1f087e3a3e8a",
   "metadata": {},
   "outputs": [
    {
     "name": "stdout",
     "output_type": "stream",
     "text": [
      "Data saved to C:/Users/win 10/Downloads/prospect_companies.csv\n"
     ]
    }
   ],
   "source": [
    "import pandas as pd\n",
    "import requests\n",
    "from bs4 import BeautifulSoup\n",
    "\n",
    "# Load the company and website data\n",
    "data = {\n",
    "    \"Company Name\": [\n",
    "        \"Nestle\", \"Dr. Reddy's Laboratories\", \"Coca\", \"Pfizer\", \"PepsiCo\", \n",
    "        \"Johnson & Johnson\", \"Danone\", \"Bayer\", \"General Mills\", \n",
    "        \"GlaxoSmithKline (GSK)\", \"Kellogg’s\", \"Merck & Co.\", \"Unilever\", \n",
    "        \"Roche\", \"Nestle Waters\", \"Sanofi\", \"Mondelez International\", \n",
    "        \"Novartis\", \"Kraft Heinz\", \"Eli Lilly and Company\", \"Tyson Foods\", \n",
    "        \"Teva Pharmaceuticals\", \"Mars, Incorporated\", \"AbbVie\", \n",
    "        \"Campbell Soup Company\", \"Amgen\", \"Conagra Brands\", \"AstraZeneca\", \n",
    "        \"Molson Coors\", \"Boehringer Ingelheim\", \"AB InBev\", \"BASF\", \n",
    "        \"Diageo\", \"Procter & Gamble (P&G)\", \"Heineken\", \"Medtronic\", \n",
    "        \"McKesson\", \"AmerisourceBergen\", \"Cardinal Health\", \n",
    "        \"Medline Industries\"\n",
    "    ],\n",
    "    \"Website\": [\n",
    "        \"www.nestle.com\", \"www.drreddys.com\", \"colacompany.com\", \n",
    "        \"www.pfizer.com\", \"www.pepsico.com\", \"www.jnj.com\", \n",
    "        \"www.danone.com\", \"www.bayer.com\", \"www.generalmills.com\", \n",
    "        \"www.gsk.com\", \"www.kelloggs.com\", \"www.merck.com\", \n",
    "        \"www.unilever.com\", \"www.roche.com\", \"www.nestlewaters.com\", \n",
    "        \"www.sanofi.com\", \"www.mondelezinternational.com\", \n",
    "        \"www.novartis.com\", \"www.kraftheinzcompany.com\", \n",
    "        \"www.lilly.com\", \"www.tysonfoods.com\", \"www.tevapharm.com\", \n",
    "        \"www.mars.com\", \"www.abbvie.com\", \"www.campbellsoupcompany.com\", \n",
    "        \"www.amgen.com\", \"www.conagrabrands.com\", \"www.astrazeneca.com\", \n",
    "        \"www.molsoncoors.com\", \"www.boehringeringelheim.com\", \n",
    "        \"www.abinbev.com\", \"www.basf.com\", \"www.diageo.com\", \n",
    "        \"www.pg.com\", \"www.theheinekencompany.com\", \"www.medtronic.com\", \n",
    "        \"www.mckesson.com\", \"www.amerisourcebergen.com\", \n",
    "        \"www.cardinalhealth.com\", \"www.medline.com\"\n",
    "    ]\n",
    "}\n",
    "\n",
    "df = pd.DataFrame(data)\n",
    "\n",
    "# Function to scrape the website data\n",
    "def scrape_website(url):\n",
    "    try:\n",
    "        response = requests.get(f\"http://{url}\")\n",
    "        soup = BeautifulSoup(response.content, \"html.parser\")\n",
    "        title = soup.title.string.strip() if soup.title else \"No Title Found\"\n",
    "        # You can extract more details like meta descriptions, keywords, etc.\n",
    "        return title\n",
    "    except Exception as e:\n",
    "        return f\"Error: {e}\"\n",
    "\n",
    "# Add a column for scraped titles\n",
    "df['Website Title'] = df['Website'].apply(scrape_website)\n",
    "\n",
    "# Add relevant categorization columns (placeholders for now)\n",
    "df['Relevant'] = \"Yes\"  # Replace with logic based on scraped data or rules\n",
    "df['Category'] = \"F&B\"  # Replace with logic based on company type\n",
    "df['Manufacturer'] = \"Yes\"  # Replace with specific conditions\n",
    "df['Brand'] = \"Yes\"  # Replace with specific conditions\n",
    "df['Distributor'] = \"No\"  # Replace with specific conditions\n",
    "df['Probiotics'] = \"No\"  # Replace with specific conditions\n",
    "df['Fortification'] = \"Yes\"  # Replace with specific conditions\n",
    "df['Gut Health'] = \"Yes\"  # Replace with specific conditions\n",
    "df['Womens Health'] = \"No\"  # Replace with specific conditions\n",
    "df['Cognitive Health'] = \"No\"  # Replace with specific conditions\n",
    "\n",
    "# Save to a new CSV file\n",
    "output_file = \"C:/Users/win 10/Downloads/prospect_companies.csv\"\n",
    "df.to_csv(output_file, index=False)\n",
    "\n",
    "print(f\"Data saved to {output_file}\")\n"
   ]
  },
  {
   "cell_type": "code",
   "execution_count": null,
   "id": "0cc5e525-eb88-4568-a481-404270fd2b5a",
   "metadata": {},
   "outputs": [],
   "source": []
  }
 ],
 "metadata": {
  "kernelspec": {
   "display_name": "Python 3 (ipykernel)",
   "language": "python",
   "name": "python3"
  },
  "language_info": {
   "codemirror_mode": {
    "name": "ipython",
    "version": 3
   },
   "file_extension": ".py",
   "mimetype": "text/x-python",
   "name": "python",
   "nbconvert_exporter": "python",
   "pygments_lexer": "ipython3",
   "version": "3.10.6"
  }
 },
 "nbformat": 4,
 "nbformat_minor": 5
}
